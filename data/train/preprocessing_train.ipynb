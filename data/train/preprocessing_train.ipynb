{
 "cells": [
  {
   "cell_type": "markdown",
   "metadata": {},
   "source": [
    "# Create files for train"
   ]
  },
  {
   "cell_type": "code",
   "execution_count": 2,
   "metadata": {},
   "outputs": [],
   "source": [
    "import re\n",
    "import os\n",
    "import shutil"
   ]
  },
  {
   "cell_type": "markdown",
   "metadata": {},
   "source": [
    "### `speaker2gender` files"
   ]
  },
  {
   "cell_type": "code",
   "execution_count": 4,
   "metadata": {},
   "outputs": [],
   "source": [
    "spk2gdr = open(\"speaker2gender\",'w')\n",
    "\n",
    "speaker_names = ['lucas','jackson','nicolas','theo','yweweler']\n",
    "\n",
    "for name in speaker_names:\n",
    "    spk2gdr.write(name+'\\t'+'m'+'\\n')\n",
    "    \n",
    "spk2gdr.close()"
   ]
  },
  {
   "cell_type": "code",
   "execution_count": 5,
   "metadata": {},
   "outputs": [
    {
     "name": "stdout",
     "output_type": "stream",
     "text": [
      "/media/thishyan/New Volume/Old_kaldi_files/fsdd/data/train\r\n"
     ]
    }
   ],
   "source": [
    "!pwd"
   ]
  },
  {
   "cell_type": "markdown",
   "metadata": {},
   "source": [
    "### `wav.scp` file"
   ]
  },
  {
   "cell_type": "code",
   "execution_count": 14,
   "metadata": {},
   "outputs": [],
   "source": [
    "wav_scp = open(\"wav.scp\",'w')\n",
    "source=\"/media/thishyan/New Volume/Old_kaldi_files/fsdd/digits_fsdd_audio/train/\"\n",
    "file_list = os.listdir(source)\n",
    "file_list.sort()\n",
    "for file in file_list:\n",
    "    uttID = re.split('_',file[:-4])\n",
    "    #print(uttID)\n",
    "    #print(uttID[1]+'_'+uttID[0]+'_'+uttID[2])\n",
    "    wav_scp.write(uttID[1]+'_'+uttID[0]+'_'+uttID[2]+'\\t'+source+file+'\\n')\n",
    "    \n",
    "wav_scp.close()"
   ]
  },
  {
   "cell_type": "markdown",
   "metadata": {},
   "source": [
    "### `text` file"
   ]
  },
  {
   "cell_type": "code",
   "execution_count": 15,
   "metadata": {},
   "outputs": [],
   "source": [
    "pron_map = {'0':'zero','1':'one','2':'two','3':'three','4':'four','5':'five','6':'six','7':'seven','8':'eight','9':'nine'}\n",
    "\n",
    "wav_scp = open('wav.scp','r')\n",
    "text = open('text','w')\n",
    "for line in wav_scp:\n",
    "    linesplit = re.split('\\t',line)\n",
    "    text.write(linesplit[0]+'\\t'+pron_map[re.split('_',linesplit[0])[1]]+'\\n')\n",
    "\n",
    "text.close()\n",
    "wav_scp.close()"
   ]
  },
  {
   "cell_type": "markdown",
   "metadata": {},
   "source": [
    "### `utt2spk` file"
   ]
  },
  {
   "cell_type": "markdown",
   "metadata": {},
   "source": [
    "This file must be sorted in order of speaker IDs (column 2)."
   ]
  },
  {
   "cell_type": "code",
   "execution_count": 16,
   "metadata": {},
   "outputs": [
    {
     "name": "stdout",
     "output_type": "stream",
     "text": [
      "['jackson', 'lucas', 'nicolas', 'theo', 'yweweler']\n"
     ]
    }
   ],
   "source": [
    "wav_scp = open('wav.scp','r')\n",
    "utt2spk = open('utt2spk','w')\n",
    "\n",
    "speaker_names.sort()\n",
    "\n",
    "print(speaker_names)\n",
    "\n",
    "for line in wav_scp:\n",
    "    uttID = re.split('\\t',line)[0]\n",
    "    utt2spk.write(uttID+'\\t'+re.split('_',uttID)[0]+'\\n')\n",
    "\n",
    "utt2spk.close() \n",
    "wav_scp.close()"
   ]
  },
  {
   "cell_type": "code",
   "execution_count": null,
   "metadata": {},
   "outputs": [],
   "source": []
  }
 ],
 "metadata": {
  "kernelspec": {
   "display_name": "Python 2",
   "language": "python",
   "name": "python2"
  },
  "language_info": {
   "codemirror_mode": {
    "name": "ipython",
    "version": 2
   },
   "file_extension": ".py",
   "mimetype": "text/x-python",
   "name": "python",
   "nbconvert_exporter": "python",
   "pygments_lexer": "ipython2",
   "version": "2.7.18"
  }
 },
 "nbformat": 4,
 "nbformat_minor": 5
}
